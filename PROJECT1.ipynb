{
 "cells": [
  {
   "cell_type": "markdown",
   "id": "957e9570",
   "metadata": {},
   "source": [
    "# Import libraries"
   ]
  },
  {
   "cell_type": "code",
   "execution_count": null,
   "id": "033c23fd",
   "metadata": {},
   "outputs": [],
   "source": [
    "import numpy as np\n",
    "import pandas as pd\n",
    "%matplotlib inline\n",
    "from matplotlib import pyplot as plt\n",
    "import seaborn as sns\n",
    "\n",
    "from sklearn.model_selection import train_test_split\n",
    "from sklearn.linear_model import LinearRegression\n",
    "\n",
    "import warnings\n",
    "warnings.filterwarnings(\"ignore\")"
   ]
  },
  {
   "cell_type": "markdown",
   "id": "95e76129",
   "metadata": {},
   "source": [
    "# Load the dataset"
   ]
  },
  {
   "cell_type": "code",
   "execution_count": null,
   "id": "51dd721f",
   "metadata": {},
   "outputs": [],
   "source": [
    "df= pd.read_csv(\"https://raw.githubusercontent.com/Premalatha-success/Datasets/main/TaxiFare.csv\")"
   ]
  },
  {
   "cell_type": "code",
   "execution_count": null,
   "id": "bdc72898",
   "metadata": {},
   "outputs": [],
   "source": [
    "df.shape"
   ]
  },
  {
   "cell_type": "code",
   "execution_count": null,
   "id": "cc1ba849",
   "metadata": {},
   "outputs": [],
   "source": [
    "df.sample(10)"
   ]
  },
  {
   "cell_type": "markdown",
   "id": "7ed31606",
   "metadata": {},
   "source": [
    "# Data Wrangling"
   ]
  },
  {
   "cell_type": "code",
   "execution_count": null,
   "id": "f8e901b7",
   "metadata": {},
   "outputs": [],
   "source": [
    "df=df.drop('unique_id', axis=1)  \n",
    "print(df.shape)\n",
    "df.head()"
   ]
  },
  {
   "cell_type": "code",
   "execution_count": null,
   "id": "19262914",
   "metadata": {},
   "outputs": [],
   "source": [
    "df.dtypes"
   ]
  },
  {
   "cell_type": "code",
   "execution_count": null,
   "id": "4436d41a",
   "metadata": {
    "scrolled": true
   },
   "outputs": [],
   "source": [
    "#change to datetime format\n",
    "df[\"date_time_of_pickup\"]= pd.to_datetime(df[\"date_time_of_pickup\"])\n",
    "df.head()"
   ]
  },
  {
   "cell_type": "code",
   "execution_count": null,
   "id": "e5092088",
   "metadata": {},
   "outputs": [],
   "source": [
    "df.dtypes"
   ]
  },
  {
   "cell_type": "code",
   "execution_count": null,
   "id": "f3cf06ef",
   "metadata": {},
   "outputs": [],
   "source": [
    "df.isnull().sum()"
   ]
  },
  {
   "cell_type": "code",
   "execution_count": null,
   "id": "dd04dc34",
   "metadata": {},
   "outputs": [],
   "source": [
    "df.info()"
   ]
  },
  {
   "cell_type": "code",
   "execution_count": null,
   "id": "a2c0af75",
   "metadata": {},
   "outputs": [],
   "source": [
    "df.describe(include='all')"
   ]
  },
  {
   "cell_type": "code",
   "execution_count": null,
   "id": "788268b4",
   "metadata": {},
   "outputs": [],
   "source": [
    "#take individual values\n",
    "df['hour'] = df['date_time_of_pickup'].dt.hour\n",
    "df['minute'] = df['date_time_of_pickup'].dt.minute\n",
    "df['date'] = df['date_time_of_pickup'].dt.day\n",
    "df['day'] = df['date_time_of_pickup'].dt.dayofweek\n",
    "df['month'] = df['date_time_of_pickup'].dt.month\n",
    "df['year'] = df['date_time_of_pickup'].dt.year"
   ]
  },
  {
   "cell_type": "code",
   "execution_count": null,
   "id": "b39aecba",
   "metadata": {},
   "outputs": [],
   "source": [
    "df.head()"
   ]
  },
  {
   "cell_type": "code",
   "execution_count": null,
   "id": "21cfb5fe",
   "metadata": {},
   "outputs": [],
   "source": [
    "df=df.drop('date_time_of_pickup', axis=1)\n",
    "df.head()"
   ]
  },
  {
   "cell_type": "code",
   "execution_count": null,
   "id": "7e61d5a3",
   "metadata": {},
   "outputs": [],
   "source": [
    "df.boxplot(column=['latitude_of_pickup'])\n",
    "plt.show()"
   ]
  },
  {
   "cell_type": "code",
   "execution_count": null,
   "id": "b11c858d",
   "metadata": {},
   "outputs": [],
   "source": [
    "#latitude is exceeding +90\n",
    "df['latitude_of_pickup']= np.where(df['latitude_of_pickup']>90, np.nan, df['latitude_of_pickup'])\n",
    "df.dropna(inplace=True)\n",
    "df.shape"
   ]
  },
  {
   "cell_type": "code",
   "execution_count": null,
   "id": "4dcb2908",
   "metadata": {},
   "outputs": [],
   "source": [
    "#to find the distance between 2 points on earth\n",
    "from geopy.distance import geodesic as GD\n",
    "\n",
    "def Distance(a):\n",
    "    lon1=a[0]\n",
    "    lat1=a[1]\n",
    "    lon2=a[2]\n",
    "    lat2=a[3]\n",
    "    \n",
    "    cord1=(lat1,lon1)\n",
    "    cord2=(lat2,lon2)\n",
    "    \n",
    "    return GD(cord1,cord2).km\n",
    "    "
   ]
  },
  {
   "cell_type": "code",
   "execution_count": null,
   "id": "9dd9f24f",
   "metadata": {},
   "outputs": [],
   "source": [
    "df['distance'] = df[['longitude_of_pickup','latitude_of_pickup','longitude_of_dropoff','latitude_of_dropoff']].apply(Distance,axis=1)"
   ]
  },
  {
   "cell_type": "code",
   "execution_count": null,
   "id": "393aadef",
   "metadata": {},
   "outputs": [],
   "source": [
    "df.drop(['longitude_of_pickup','latitude_of_pickup','longitude_of_dropoff','latitude_of_dropoff'], axis=1, inplace=True)\n",
    "df.head()"
   ]
  },
  {
   "cell_type": "code",
   "execution_count": null,
   "id": "f5e9dfde",
   "metadata": {},
   "outputs": [],
   "source": [
    "df.info()"
   ]
  },
  {
   "cell_type": "code",
   "execution_count": null,
   "id": "dfb14705",
   "metadata": {},
   "outputs": [],
   "source": [
    "df.describe()"
   ]
  },
  {
   "cell_type": "code",
   "execution_count": null,
   "id": "dfbc9b70",
   "metadata": {},
   "outputs": [],
   "source": [
    "#remove negative values\n",
    "df['amount']= np.where(df['amount']<0, np.nan, df['amount'])\n",
    "df.dropna(inplace=True)\n",
    "df.shape"
   ]
  },
  {
   "cell_type": "code",
   "execution_count": null,
   "id": "b195b582",
   "metadata": {},
   "outputs": [],
   "source": [
    "sns.countplot(x='no_of_passenger', data=df)"
   ]
  },
  {
   "cell_type": "code",
   "execution_count": null,
   "id": "1ed232ad",
   "metadata": {},
   "outputs": [],
   "source": [
    "sns.pairplot(df, diag_kind='kde')"
   ]
  },
  {
   "cell_type": "markdown",
   "id": "fc4e1721",
   "metadata": {},
   "source": [
    "# Handling duplicates"
   ]
  },
  {
   "cell_type": "code",
   "execution_count": null,
   "id": "4666d941",
   "metadata": {},
   "outputs": [],
   "source": [
    "duplicate=df.duplicated()\n",
    "print(duplicate.sum())\n",
    "df[duplicate]"
   ]
  },
  {
   "cell_type": "code",
   "execution_count": null,
   "id": "80a61f7e",
   "metadata": {},
   "outputs": [],
   "source": [
    "df.describe()"
   ]
  },
  {
   "cell_type": "markdown",
   "id": "1487a142",
   "metadata": {},
   "source": [
    "# Handling Outliers"
   ]
  },
  {
   "cell_type": "code",
   "execution_count": null,
   "id": "e9ecaf86",
   "metadata": {},
   "outputs": [],
   "source": [
    "df.boxplot(column=['no_of_passenger'])\n",
    "plt.show()"
   ]
  },
  {
   "cell_type": "code",
   "execution_count": null,
   "id": "bae02eb9",
   "metadata": {},
   "outputs": [],
   "source": [
    "#replace the outliers using IQR\n",
    "#def remove_outlier(col)\n",
    "#user defined function called remove_outlier for getting the threshold value from IQR\n",
    "\n",
    "def remove_outlier(col):\n",
    "    sorted (col)\n",
    "    Q1,Q3= col.quantile([0.25,0.75])\n",
    "    IQR=Q3-Q1\n",
    "    lower_range= Q1- (1.5*IQR)\n",
    "    upper_range= Q3+ (1.5*IQR)\n",
    "    return lower_range, upper_range"
   ]
  },
  {
   "cell_type": "code",
   "execution_count": null,
   "id": "d7ba1208",
   "metadata": {},
   "outputs": [],
   "source": [
    "lowno,uppno = remove_outlier(df['no_of_passenger'])\n",
    "df['no_of_passenger']= np.where(df['no_of_passenger']>uppno, uppno, df['no_of_passenger'])\n",
    "df['no_of_passenger']= np.where(df['no_of_passenger']<lowno, lowno, df['no_of_passenger'])"
   ]
  },
  {
   "cell_type": "code",
   "execution_count": null,
   "id": "b3050113",
   "metadata": {},
   "outputs": [],
   "source": [
    "df.boxplot(column=['no_of_passenger'])\n",
    "plt.show()"
   ]
  },
  {
   "cell_type": "markdown",
   "id": "3033ff8f",
   "metadata": {},
   "source": [
    "# Scaling"
   ]
  },
  {
   "cell_type": "code",
   "execution_count": null,
   "id": "37c3d48e",
   "metadata": {},
   "outputs": [],
   "source": [
    "from scipy.stats import zscore\n",
    "df_z = df.apply(zscore)\n",
    "df_z= pd.DataFrame(df_z, columns= 'amount no_of_passenger hour minute date day month year distance'.split())"
   ]
  },
  {
   "cell_type": "code",
   "execution_count": null,
   "id": "3e94bf7a",
   "metadata": {},
   "outputs": [],
   "source": [
    "df.head()"
   ]
  },
  {
   "cell_type": "code",
   "execution_count": null,
   "id": "c8fdc9d8",
   "metadata": {},
   "outputs": [],
   "source": [
    "#from sklearn.preprocessing import StandardScaler\n",
    "#std_scale= StandardScaler()\n",
    "#std_scale"
   ]
  },
  {
   "cell_type": "code",
   "execution_count": null,
   "id": "1360383f",
   "metadata": {},
   "outputs": [],
   "source": [
    "#df['no_of_passenger']= std_scale.fit_transform(df[['no_of_passenger']])\n",
    "#df['hour']= std_scale.fit_transform(df[['hour']])\n",
    "#df['minute']= std_scale.fit_transform(df[['minute']])\n",
    "#df['date']= std_scale.fit_transform(df[['date']])\n",
    "#df['day']= std_scale.fit_transform(df[['day']])\n",
    "#df['month']= std_scale.fit_transform(df[['month']])\n",
    "#df['year']= std_scale.fit_transform(df[['year']])\n",
    "#df['distance']= std_scale.fit_transform(df[['distance']])"
   ]
  },
  {
   "cell_type": "code",
   "execution_count": null,
   "id": "204dba4d",
   "metadata": {},
   "outputs": [],
   "source": [
    "#df.head()"
   ]
  },
  {
   "cell_type": "markdown",
   "id": "25d67e25",
   "metadata": {},
   "source": [
    "# Split Data and Train"
   ]
  },
  {
   "cell_type": "code",
   "execution_count": null,
   "id": "a56554e9",
   "metadata": {},
   "outputs": [],
   "source": [
    "X= df.drop(['amount'], axis=1)\n",
    "y= df[['amount']]"
   ]
  },
  {
   "cell_type": "code",
   "execution_count": null,
   "id": "cd941a78",
   "metadata": {},
   "outputs": [],
   "source": [
    "X_train, X_test, y_train, y_test = train_test_split(X, y, test_size=0.30, random_state=1)"
   ]
  },
  {
   "cell_type": "markdown",
   "id": "6b6bcd05",
   "metadata": {},
   "source": [
    "# Approach 1"
   ]
  },
  {
   "cell_type": "code",
   "execution_count": null,
   "id": "524d78dc",
   "metadata": {},
   "outputs": [],
   "source": [
    "model= LinearRegression() \n",
    "model.fit(X_train, y_train)"
   ]
  },
  {
   "cell_type": "code",
   "execution_count": null,
   "id": "d88c2968",
   "metadata": {},
   "outputs": [],
   "source": [
    "print(model.score(X_train, y_train))\n",
    "print(model.score(X_test, y_test))"
   ]
  },
  {
   "cell_type": "markdown",
   "id": "b3ebca77",
   "metadata": {},
   "source": [
    "# approch2"
   ]
  },
  {
   "cell_type": "code",
   "execution_count": null,
   "id": "dc71faa3",
   "metadata": {},
   "outputs": [],
   "source": [
    "from sklearn.preprocessing import PolynomialFeatures\n",
    "from sklearn import linear_model\n",
    "\n",
    "poly=PolynomialFeatures(degree=2, interaction_only=True) \n",
    "X_train2 = poly.fit_transform(X_train)\n",
    "X_test2 = poly.fit_transform(X_test)\n",
    "\n",
    "poly_clf= linear_model.LinearRegression()\n",
    "poly_clf.fit(X_train2, y_train)"
   ]
  },
  {
   "cell_type": "code",
   "execution_count": null,
   "id": "a5dbf015",
   "metadata": {},
   "outputs": [],
   "source": [
    "print(poly_clf.score(X_train2, y_train))\n",
    "print(poly_clf.score(X_test2, y_test))"
   ]
  },
  {
   "cell_type": "code",
   "execution_count": null,
   "id": "e3a45284",
   "metadata": {},
   "outputs": [],
   "source": [
    "from sklearn.ensemble import RandomForestRegressor\n",
    "\n",
    "rf = RandomForestRegressor(n_estimators=10)\n",
    "rf.fit(X_train, y_train)"
   ]
  },
  {
   "cell_type": "code",
   "execution_count": null,
   "id": "129d2ef1",
   "metadata": {},
   "outputs": [],
   "source": [
    "print(rf.score(X_train, y_train))\n",
    "print(rf.score(X_test, y_test))"
   ]
  },
  {
   "cell_type": "markdown",
   "id": "67027d9e",
   "metadata": {},
   "source": [
    "# Approach 3"
   ]
  },
  {
   "cell_type": "code",
   "execution_count": null,
   "id": "080905db",
   "metadata": {},
   "outputs": [],
   "source": [
    "from sklearn.svm import SVR "
   ]
  },
  {
   "cell_type": "code",
   "execution_count": null,
   "id": "37624a0f",
   "metadata": {},
   "outputs": [],
   "source": [
    "svr_model= SVR(C=2, gamma=0.25, kernel='rbf')\n",
    "svr_model.fit(X_train, y_train)"
   ]
  },
  {
   "cell_type": "code",
   "execution_count": null,
   "id": "ca686559",
   "metadata": {},
   "outputs": [],
   "source": [
    "print(svr_model.score(X_train, y_train))\n",
    "print(svr_model.score(X_test, y_test))"
   ]
  },
  {
   "cell_type": "markdown",
   "id": "2719a68d",
   "metadata": {},
   "source": [
    "# approch 4"
   ]
  },
  {
   "cell_type": "code",
   "execution_count": null,
   "id": "69d089e7",
   "metadata": {},
   "outputs": [],
   "source": [
    "from sklearn.tree import DecisionTreeRegressor"
   ]
  },
  {
   "cell_type": "code",
   "execution_count": null,
   "id": "4a775b38",
   "metadata": {},
   "outputs": [],
   "source": [
    "dtree= DecisionTreeRegressor()\n",
    "dtree.fit(X_train, y_train)"
   ]
  },
  {
   "cell_type": "code",
   "execution_count": null,
   "id": "bb3d9809",
   "metadata": {},
   "outputs": [],
   "source": [
    "print(dtree.score(X_train, y_train))\n",
    "print(dtree.score(X_test, y_test))"
   ]
  },
  {
   "cell_type": "markdown",
   "id": "e70cf93f",
   "metadata": {},
   "source": [
    "# approach 5"
   ]
  },
  {
   "cell_type": "code",
   "execution_count": null,
   "id": "e0fb1d68",
   "metadata": {},
   "outputs": [],
   "source": [
    "from sklearn.ensemble import BaggingRegressor"
   ]
  },
  {
   "cell_type": "code",
   "execution_count": null,
   "id": "764e463d",
   "metadata": {},
   "outputs": [],
   "source": [
    "bgr= BaggingRegressor()\n",
    "bgr.fit(X_train, y_train)"
   ]
  },
  {
   "cell_type": "code",
   "execution_count": null,
   "id": "1cc0d144",
   "metadata": {},
   "outputs": [],
   "source": [
    "print(bgr.score(X_train, y_train))\n",
    "print(bgr.score(X_test, y_test))"
   ]
  },
  {
   "cell_type": "markdown",
   "id": "fc30461c",
   "metadata": {},
   "source": [
    "# approach6"
   ]
  },
  {
   "cell_type": "code",
   "execution_count": null,
   "id": "4652dc41",
   "metadata": {},
   "outputs": [],
   "source": [
    "from sklearn.ensemble import AdaBoostRegressor"
   ]
  },
  {
   "cell_type": "code",
   "execution_count": null,
   "id": "cb70dfa0",
   "metadata": {},
   "outputs": [],
   "source": [
    "abr= AdaBoostRegressor()\n",
    "abr.fit(X_train, y_train)"
   ]
  },
  {
   "cell_type": "code",
   "execution_count": null,
   "id": "f216f3b5",
   "metadata": {},
   "outputs": [],
   "source": [
    "print(abr.score(X_train, y_train))\n",
    "print(abr.score(X_test, y_test))"
   ]
  },
  {
   "cell_type": "code",
   "execution_count": null,
   "id": "1f5c0d95",
   "metadata": {},
   "outputs": [],
   "source": []
  }
 ],
 "metadata": {
  "kernelspec": {
   "display_name": "Python 3 (ipykernel)",
   "language": "python",
   "name": "python3"
  },
  "language_info": {
   "codemirror_mode": {
    "name": "ipython",
    "version": 3
   },
   "file_extension": ".py",
   "mimetype": "text/x-python",
   "name": "python",
   "nbconvert_exporter": "python",
   "pygments_lexer": "ipython3",
   "version": "3.9.12"
  }
 },
 "nbformat": 4,
 "nbformat_minor": 5
}
